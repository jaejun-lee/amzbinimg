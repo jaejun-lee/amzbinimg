{
 "cells": [
  {
   "cell_type": "code",
   "execution_count": 1,
   "metadata": {},
   "outputs": [
    {
     "data": {
      "text/plain": [
       "<module 'catalog' from '/home/ubuntu/amzbinimg/src/catalog.py'>"
      ]
     },
     "execution_count": 1,
     "metadata": {},
     "output_type": "execute_result"
    }
   ],
   "source": [
    "import importlib as imt\n",
    "import datasets_v3 as ds3\n",
    "import frame_autoencoder_v3 as fr\n",
    "import catalog\n",
    "import datasets_v0 as ds0\n",
    "import utils\n",
    "imt.reload(ds0)\n",
    "imt.reload(fr)\n",
    "imt.reload(ds3)\n",
    "imt.reload(catalog)\n",
    "imt.reload(utils)"
   ]
  },
  {
   "cell_type": "code",
   "execution_count": 2,
   "metadata": {},
   "outputs": [],
   "source": [
    "import datetime as dt\n",
    "import tensorflow as tf\n",
    "\n",
    "import skimage\n",
    "from skimage.io import imread\n",
    "from skimage.io import imsave\n",
    "from PIL import Image\n",
    "import numpy as np\n",
    "import matplotlib.pyplot as plt\n",
    "\n",
    "import tensorflow as tf\n",
    "from tensorflow import keras\n",
    "import tensorflow.keras.backend as K\n",
    "\n",
    "from tensorflow.keras.models import Sequential\n",
    "from tensorflow.keras.models import Model\n",
    "\n",
    "from tensorflow.keras.layers import Activation, Dense, Input, InputLayer\n",
    "from tensorflow.keras.layers import Conv2D, Conv2DTranspose\n",
    "from tensorflow.keras.layers import Reshape, Flatten\n",
    "from tensorflow.keras.layers import BatchNormalization, Dropout\n",
    "from tensorflow.keras.layers import UpSampling2D, MaxPooling2D\n",
    "\n",
    "from tensorflow.keras.activations import relu\n",
    "\n",
    "from tensorflow.keras import regularizers, optimizers\n",
    "from tensorflow.keras.preprocessing.image import ImageDataGenerator\n",
    "from tensorflow.keras.preprocessing.image import img_to_array, load_img\n",
    "\n",
    "from tensorflow.keras.callbacks import TensorBoard"
   ]
  },
  {
   "cell_type": "markdown",
   "metadata": {},
   "source": [
    "## Run Prediction Model from Encoder"
   ]
  },
  {
   "cell_type": "markdown",
   "metadata": {},
   "source": [
    "### load model"
   ]
  },
  {
   "cell_type": "code",
   "execution_count": 3,
   "metadata": {},
   "outputs": [],
   "source": [
    "frame = fr.frame_autoencoder(batch_size = 256, \n",
    "                            kernel_size = 3, \n",
    "                            latent_dim = 1024, \n",
    "                            layer_filters = [16, 32, 16]\n",
    "    )"
   ]
  },
  {
   "cell_type": "code",
   "execution_count": 4,
   "metadata": {},
   "outputs": [
    {
     "name": "stdout",
     "output_type": "stream",
     "text": [
      "get_metadata: Available Images: 29312\n"
     ]
    }
   ],
   "source": [
    "# load dataset\n",
    "X_train, X_test, y_train, y_test = ds0.load_data()"
   ]
  },
  {
   "cell_type": "code",
   "execution_count": 5,
   "metadata": {},
   "outputs": [],
   "source": [
    "y_train = tf.keras.utils.to_categorical(y_train)\n",
    "y_test = tf.keras.utils.to_categorical(y_test)"
   ]
  },
  {
   "cell_type": "code",
   "execution_count": 9,
   "metadata": {},
   "outputs": [],
   "source": [
    "# Prepare Datasets\n",
    "frame.load_datagenerators(X_train, y_train, X_test, y_test, input_size = (128, 128))\n",
    "frame.input_shape = (128, 128, 3)"
   ]
  },
  {
   "cell_type": "code",
   "execution_count": 48,
   "metadata": {},
   "outputs": [],
   "source": [
    "frame.train_generator.reset()\n",
    "frame.valid_generator.reset()\n",
    "frame.test_generator.reset()"
   ]
  },
  {
   "cell_type": "code",
   "execution_count": 32,
   "metadata": {},
   "outputs": [],
   "source": [
    "def soft_rmse(y_true, y_pred):\n",
    "    return K.sqrt(  K.mean(K.cast_to_floatx ( K.square( K.argmax(y_true) - K.argmax(y_pred) )), axis=-1) )"
   ]
  },
  {
   "cell_type": "code",
   "execution_count": 49,
   "metadata": {},
   "outputs": [
    {
     "name": "stdout",
     "output_type": "stream",
     "text": [
      "WARNING:tensorflow:No training configuration found in save file: the model was *not* compiled. Compile it manually.\n"
     ]
    }
   ],
   "source": [
    "# load models\n",
    "frame.encoder = tf.keras.models.load_model(\"../model/encoder_reco_binary_6428.h5\")\n",
    "frame.inputs = frame.encoder.input\n",
    "frame.load_decoder(build_decoder_predict)\n",
    "frame.load_model_predict(build_model_predict)"
   ]
  },
  {
   "cell_type": "code",
   "execution_count": 41,
   "metadata": {},
   "outputs": [
    {
     "name": "stdout",
     "output_type": "stream",
     "text": [
      "Model: \"model_predict\"\n",
      "_________________________________________________________________\n",
      "Layer (type)                 Output Shape              Param #   \n",
      "=================================================================\n",
      "encoder_input (InputLayer)   [(None, 128, 128, 3)]     0         \n",
      "_________________________________________________________________\n",
      "encoder (Model)              (None, 1024)              4205296   \n",
      "_________________________________________________________________\n",
      "decoder_predicter (Model)    (None, 6)                 2363142   \n",
      "=================================================================\n",
      "Total params: 6,568,438\n",
      "Trainable params: 6,568,182\n",
      "Non-trainable params: 256\n",
      "_________________________________________________________________\n"
     ]
    }
   ],
   "source": [
    "frame.model_predict.summary()"
   ]
  },
  {
   "cell_type": "code",
   "execution_count": 42,
   "metadata": {},
   "outputs": [
    {
     "name": "stdout",
     "output_type": "stream",
     "text": [
      "Model: \"encoder\"\n",
      "_________________________________________________________________\n",
      "Layer (type)                 Output Shape              Param #   \n",
      "=================================================================\n",
      "encoder_input (InputLayer)   [(None, 128, 128, 3)]     0         \n",
      "_________________________________________________________________\n",
      "conv2d_3 (Conv2D)            (None, 128, 128, 16)      448       \n",
      "_________________________________________________________________\n",
      "batch_normalization_6 (Batch (None, 128, 128, 16)      64        \n",
      "_________________________________________________________________\n",
      "tf_op_layer_Relu_6 (TensorFl (None, 128, 128, 16)      0         \n",
      "_________________________________________________________________\n",
      "max_pooling2d_3 (MaxPooling2 (None, 64, 64, 16)        0         \n",
      "_________________________________________________________________\n",
      "conv2d_4 (Conv2D)            (None, 64, 64, 32)        4640      \n",
      "_________________________________________________________________\n",
      "batch_normalization_7 (Batch (None, 64, 64, 32)        128       \n",
      "_________________________________________________________________\n",
      "tf_op_layer_Relu_7 (TensorFl (None, 64, 64, 32)        0         \n",
      "_________________________________________________________________\n",
      "max_pooling2d_4 (MaxPooling2 (None, 32, 32, 32)        0         \n",
      "_________________________________________________________________\n",
      "conv2d_5 (Conv2D)            (None, 32, 32, 16)        4624      \n",
      "_________________________________________________________________\n",
      "batch_normalization_8 (Batch (None, 32, 32, 16)        64        \n",
      "_________________________________________________________________\n",
      "tf_op_layer_Relu_8 (TensorFl (None, 32, 32, 16)        0         \n",
      "_________________________________________________________________\n",
      "max_pooling2d_5 (MaxPooling2 (None, 16, 16, 16)        0         \n",
      "_________________________________________________________________\n",
      "flatten_1 (Flatten)          (None, 4096)              0         \n",
      "_________________________________________________________________\n",
      "latent_vector (Dense)        (None, 1024)              4195328   \n",
      "=================================================================\n",
      "Total params: 4,205,296\n",
      "Trainable params: 4,205,040\n",
      "Non-trainable params: 256\n",
      "_________________________________________________________________\n"
     ]
    }
   ],
   "source": [
    "frame.encoder.summary()"
   ]
  },
  {
   "cell_type": "code",
   "execution_count": 43,
   "metadata": {},
   "outputs": [
    {
     "name": "stdout",
     "output_type": "stream",
     "text": [
      "Model: \"decoder_predicter\"\n",
      "_________________________________________________________________\n",
      "Layer (type)                 Output Shape              Param #   \n",
      "=================================================================\n",
      "decoder_input (InputLayer)   [(None, 1024)]            0         \n",
      "_________________________________________________________________\n",
      "dense_12 (Dense)             (None, 1024)              1049600   \n",
      "_________________________________________________________________\n",
      "dropout_6 (Dropout)          (None, 1024)              0         \n",
      "_________________________________________________________________\n",
      "dense_13 (Dense)             (None, 1024)              1049600   \n",
      "_________________________________________________________________\n",
      "dropout_7 (Dropout)          (None, 1024)              0         \n",
      "_________________________________________________________________\n",
      "dense_14 (Dense)             (None, 256)               262400    \n",
      "_________________________________________________________________\n",
      "dense_15 (Dense)             (None, 6)                 1542      \n",
      "=================================================================\n",
      "Total params: 2,363,142\n",
      "Trainable params: 2,363,142\n",
      "Non-trainable params: 0\n",
      "_________________________________________________________________\n"
     ]
    }
   ],
   "source": [
    "frame.decoder.summary()"
   ]
  },
  {
   "cell_type": "code",
   "execution_count": 70,
   "metadata": {},
   "outputs": [
    {
     "name": "stdout",
     "output_type": "stream",
     "text": [
      "Layer 0 | Name: encoder_input | Trainable: True\n",
      "Layer 1 | Name: conv2d | Trainable: True\n",
      "Layer 2 | Name: batch_normalization | Trainable: False\n",
      "Layer 3 | Name: tf_op_layer_Relu | Trainable: True\n",
      "Layer 4 | Name: max_pooling2d | Trainable: True\n",
      "Layer 5 | Name: conv2d_1 | Trainable: True\n",
      "Layer 6 | Name: batch_normalization_1 | Trainable: False\n",
      "Layer 7 | Name: tf_op_layer_Relu_1 | Trainable: True\n",
      "Layer 8 | Name: max_pooling2d_1 | Trainable: True\n",
      "Layer 9 | Name: conv2d_2 | Trainable: True\n",
      "Layer 10 | Name: batch_normalization_2 | Trainable: False\n",
      "Layer 11 | Name: tf_op_layer_Relu_2 | Trainable: True\n",
      "Layer 12 | Name: max_pooling2d_2 | Trainable: True\n",
      "Layer 13 | Name: flatten | Trainable: True\n",
      "Layer 14 | Name: latent_vector | Trainable: True\n"
     ]
    }
   ],
   "source": [
    "fr.print_model_properties(frame.encoder)"
   ]
  },
  {
   "cell_type": "code",
   "execution_count": 71,
   "metadata": {},
   "outputs": [
    {
     "name": "stdout",
     "output_type": "stream",
     "text": [
      "Layer 0 | Name: decoder_input | Trainable: True\n",
      "Layer 1 | Name: dense_18 | Trainable: True\n",
      "Layer 2 | Name: dropout_12 | Trainable: True\n",
      "Layer 3 | Name: dense_19 | Trainable: True\n",
      "Layer 4 | Name: dropout_13 | Trainable: True\n",
      "Layer 5 | Name: dense_20 | Trainable: True\n",
      "Layer 6 | Name: dropout_14 | Trainable: True\n",
      "Layer 7 | Name: dense_21 | Trainable: True\n"
     ]
    }
   ],
   "source": [
    "fr.print_model_properties(frame.decoder)"
   ]
  },
  {
   "cell_type": "code",
   "execution_count": 72,
   "metadata": {},
   "outputs": [
    {
     "name": "stdout",
     "output_type": "stream",
     "text": [
      "Layer 0 | Name: encoder_input | Trainable: True\n",
      "Layer 1 | Name: encoder | Trainable: True\n",
      "Layer 2 | Name: decoder_predicter | Trainable: True\n"
     ]
    }
   ],
   "source": [
    "fr.print_model_properties(frame.model_predict)"
   ]
  },
  {
   "cell_type": "code",
   "execution_count": 63,
   "metadata": {},
   "outputs": [],
   "source": [
    "# set trainable layer to top layers only\n",
    "fr.change_trainable_layers(frame.encoder, 9)"
   ]
  },
  {
   "cell_type": "code",
   "execution_count": 50,
   "metadata": {},
   "outputs": [],
   "source": [
    "frame.encoder.trainable = False"
   ]
  },
  {
   "cell_type": "code",
   "execution_count": 51,
   "metadata": {},
   "outputs": [
    {
     "name": "stdout",
     "output_type": "stream",
     "text": [
      "\n",
      "Fitting the model ... ...\n"
     ]
    }
   ],
   "source": [
    "print('\\nFitting the model ... ...')\n",
    "log_dir=\"../logs/fit/xception/\" + dt.datetime.now().strftime(\"%Y%m%d-%H%M%S\")\n",
    "tensorboard_callback = tf.keras.callbacks.TensorBoard(log_dir=log_dir, histogram_freq=1)"
   ]
  },
  {
   "cell_type": "code",
   "execution_count": 53,
   "metadata": {},
   "outputs": [
    {
     "name": "stdout",
     "output_type": "stream",
     "text": [
      "Train for 73 steps, validate for 18 steps\n",
      "Epoch 1/40\n",
      "73/73 [==============================] - 23s 321ms/step - loss: 1.8350 - accuracy: 0.3078 - soft_rmse: 1.7113 - val_loss: 1.7822 - val_accuracy: 0.1799 - val_soft_rmse: 2.5252\n",
      "Epoch 2/40\n",
      "73/73 [==============================] - 23s 320ms/step - loss: 1.4033 - accuracy: 0.3618 - soft_rmse: 1.5266 - val_loss: 1.7829 - val_accuracy: 0.2064 - val_soft_rmse: 1.6278\n",
      "Epoch 3/40\n",
      "73/73 [==============================] - 23s 320ms/step - loss: 1.3554 - accuracy: 0.3813 - soft_rmse: 1.4873 - val_loss: 1.7762 - val_accuracy: 0.1819 - val_soft_rmse: 2.2850\n",
      "Epoch 4/40\n",
      "73/73 [==============================] - 23s 318ms/step - loss: 1.3299 - accuracy: 0.3989 - soft_rmse: 1.4326 - val_loss: 1.7808 - val_accuracy: 0.1860 - val_soft_rmse: 2.1490\n",
      "Epoch 5/40\n",
      "73/73 [==============================] - 23s 320ms/step - loss: 1.3084 - accuracy: 0.4054 - soft_rmse: 1.3966 - val_loss: 1.7538 - val_accuracy: 0.2350 - val_soft_rmse: 2.1098\n",
      "Epoch 6/40\n",
      "73/73 [==============================] - 23s 319ms/step - loss: 1.2934 - accuracy: 0.4180 - soft_rmse: 1.4004 - val_loss: 1.7600 - val_accuracy: 0.1836 - val_soft_rmse: 2.2903\n",
      "Epoch 7/40\n",
      "73/73 [==============================] - 23s 319ms/step - loss: 1.2690 - accuracy: 0.4243 - soft_rmse: 1.3534 - val_loss: 1.7406 - val_accuracy: 0.2396 - val_soft_rmse: 2.2675\n",
      "Epoch 8/40\n",
      "73/73 [==============================] - 23s 319ms/step - loss: 1.2552 - accuracy: 0.4312 - soft_rmse: 1.3529 - val_loss: 1.7307 - val_accuracy: 0.2569 - val_soft_rmse: 2.0957\n",
      "Epoch 9/40\n",
      "73/73 [==============================] - 23s 320ms/step - loss: 1.2380 - accuracy: 0.4392 - soft_rmse: 1.3250 - val_loss: 1.7432 - val_accuracy: 0.2520 - val_soft_rmse: 1.8601\n",
      "Epoch 10/40\n",
      "73/73 [==============================] - 23s 319ms/step - loss: 1.2191 - accuracy: 0.4514 - soft_rmse: 1.2808 - val_loss: 1.7264 - val_accuracy: 0.2381 - val_soft_rmse: 2.2442\n",
      "Epoch 11/40\n",
      "73/73 [==============================] - 23s 318ms/step - loss: 1.2106 - accuracy: 0.4530 - soft_rmse: 1.2928 - val_loss: 1.7447 - val_accuracy: 0.2402 - val_soft_rmse: 2.0087\n",
      "Epoch 12/40\n",
      "73/73 [==============================] - 23s 319ms/step - loss: 1.1936 - accuracy: 0.4623 - soft_rmse: 1.2759 - val_loss: 1.7614 - val_accuracy: 0.2099 - val_soft_rmse: 1.9923\n",
      "Epoch 13/40\n",
      "73/73 [==============================] - 23s 320ms/step - loss: 1.1930 - accuracy: 0.4580 - soft_rmse: 1.2688 - val_loss: 1.7728 - val_accuracy: 0.2101 - val_soft_rmse: 1.7608\n",
      "Epoch 14/40\n",
      "73/73 [==============================] - 23s 320ms/step - loss: 1.1719 - accuracy: 0.4674 - soft_rmse: 1.2396 - val_loss: 1.7693 - val_accuracy: 0.1840 - val_soft_rmse: 2.2911\n",
      "Epoch 15/40\n",
      "73/73 [==============================] - 23s 319ms/step - loss: 1.1596 - accuracy: 0.4761 - soft_rmse: 1.2179 - val_loss: 1.7693 - val_accuracy: 0.1931 - val_soft_rmse: 2.0932\n",
      "Epoch 16/40\n",
      "73/73 [==============================] - 23s 318ms/step - loss: 1.1502 - accuracy: 0.4703 - soft_rmse: 1.2065 - val_loss: 1.7507 - val_accuracy: 0.2250 - val_soft_rmse: 2.1831\n",
      "Epoch 17/40\n",
      "73/73 [==============================] - 23s 318ms/step - loss: 1.1410 - accuracy: 0.4767 - soft_rmse: 1.1995 - val_loss: 1.7622 - val_accuracy: 0.2029 - val_soft_rmse: 2.0507\n",
      "Epoch 18/40\n",
      "73/73 [==============================] - 23s 319ms/step - loss: 1.1149 - accuracy: 0.4870 - soft_rmse: 1.1714 - val_loss: 1.7824 - val_accuracy: 0.2033 - val_soft_rmse: 1.7923\n",
      "Epoch 19/40\n",
      "73/73 [==============================] - 23s 319ms/step - loss: 1.1203 - accuracy: 0.4895 - soft_rmse: 1.1772 - val_loss: 1.8128 - val_accuracy: 0.1842 - val_soft_rmse: 2.2024\n",
      "Epoch 20/40\n",
      "73/73 [==============================] - 23s 318ms/step - loss: 1.0949 - accuracy: 0.4971 - soft_rmse: 1.1558 - val_loss: 1.7745 - val_accuracy: 0.1951 - val_soft_rmse: 1.7977\n",
      "Epoch 21/40\n",
      "73/73 [==============================] - 23s 319ms/step - loss: 1.0742 - accuracy: 0.5040 - soft_rmse: 1.1303 - val_loss: 1.7853 - val_accuracy: 0.1855 - val_soft_rmse: 1.9480\n",
      "Epoch 22/40\n",
      "73/73 [==============================] - 23s 318ms/step - loss: 1.0453 - accuracy: 0.5169 - soft_rmse: 1.1003 - val_loss: 1.7934 - val_accuracy: 0.1966 - val_soft_rmse: 1.7713\n",
      "Epoch 23/40\n",
      "73/73 [==============================] - 23s 320ms/step - loss: 1.0352 - accuracy: 0.5264 - soft_rmse: 1.0880 - val_loss: 1.7902 - val_accuracy: 0.1736 - val_soft_rmse: 1.7267\n",
      "Epoch 24/40\n",
      "73/73 [==============================] - 23s 319ms/step - loss: 1.0125 - accuracy: 0.5367 - soft_rmse: 1.0506 - val_loss: 1.8644 - val_accuracy: 0.1851 - val_soft_rmse: 2.3768\n",
      "Epoch 25/40\n",
      "73/73 [==============================] - 23s 320ms/step - loss: 1.0020 - accuracy: 0.5447 - soft_rmse: 1.0474 - val_loss: 1.8365 - val_accuracy: 0.1745 - val_soft_rmse: 2.2338\n",
      "Epoch 26/40\n",
      "73/73 [==============================] - 23s 320ms/step - loss: 0.9788 - accuracy: 0.5481 - soft_rmse: 1.0308 - val_loss: 1.8023 - val_accuracy: 0.1823 - val_soft_rmse: 2.2237\n",
      "Epoch 27/40\n",
      "73/73 [==============================] - 23s 319ms/step - loss: 0.9551 - accuracy: 0.5621 - soft_rmse: 1.0011 - val_loss: 1.8046 - val_accuracy: 0.1845 - val_soft_rmse: 2.0923\n",
      "Epoch 28/40\n",
      "73/73 [==============================] - 23s 319ms/step - loss: 0.9918 - accuracy: 0.5538 - soft_rmse: 1.0307 - val_loss: 1.8138 - val_accuracy: 0.1530 - val_soft_rmse: 2.4238\n",
      "Epoch 29/40\n",
      "73/73 [==============================] - 23s 319ms/step - loss: 0.9192 - accuracy: 0.5788 - soft_rmse: 0.9672 - val_loss: 1.8719 - val_accuracy: 0.1810 - val_soft_rmse: 2.5500\n",
      "Epoch 30/40\n",
      "73/73 [==============================] - 23s 318ms/step - loss: 0.9137 - accuracy: 0.5878 - soft_rmse: 0.9623 - val_loss: 1.8331 - val_accuracy: 0.1858 - val_soft_rmse: 1.8439\n",
      "Epoch 31/40\n",
      "73/73 [==============================] - 23s 318ms/step - loss: 0.8858 - accuracy: 0.6001 - soft_rmse: 0.9200 - val_loss: 1.8581 - val_accuracy: 0.1606 - val_soft_rmse: 2.1591\n",
      "Epoch 32/40\n",
      "73/73 [==============================] - 23s 318ms/step - loss: 0.8646 - accuracy: 0.6129 - soft_rmse: 0.9142 - val_loss: 1.8705 - val_accuracy: 0.1780 - val_soft_rmse: 2.3129\n",
      "Epoch 33/40\n",
      "73/73 [==============================] - 23s 319ms/step - loss: 0.8375 - accuracy: 0.6228 - soft_rmse: 0.8832 - val_loss: 1.8812 - val_accuracy: 0.1647 - val_soft_rmse: 2.0414\n",
      "Epoch 34/40\n",
      "73/73 [==============================] - 23s 319ms/step - loss: 0.8336 - accuracy: 0.6276 - soft_rmse: 0.9002 - val_loss: 1.7920 - val_accuracy: 0.1836 - val_soft_rmse: 2.2601\n",
      "Epoch 35/40\n",
      "73/73 [==============================] - 23s 319ms/step - loss: 0.7758 - accuracy: 0.6553 - soft_rmse: 0.8455 - val_loss: 1.9031 - val_accuracy: 0.1708 - val_soft_rmse: 1.9103\n",
      "Epoch 36/40\n",
      "73/73 [==============================] - 23s 320ms/step - loss: 0.7489 - accuracy: 0.6684 - soft_rmse: 0.8049 - val_loss: 1.8539 - val_accuracy: 0.1732 - val_soft_rmse: 2.7274\n",
      "Epoch 37/40\n",
      "73/73 [==============================] - 23s 320ms/step - loss: 0.7216 - accuracy: 0.6841 - soft_rmse: 0.7976 - val_loss: 2.0060 - val_accuracy: 0.1777 - val_soft_rmse: 2.1307\n",
      "Epoch 38/40\n",
      "73/73 [==============================] - 23s 320ms/step - loss: 0.6976 - accuracy: 0.6937 - soft_rmse: 0.7756 - val_loss: 1.9299 - val_accuracy: 0.1721 - val_soft_rmse: 2.2223\n",
      "Epoch 39/40\n",
      "73/73 [==============================] - 23s 319ms/step - loss: 0.6836 - accuracy: 0.7030 - soft_rmse: 0.7657 - val_loss: 1.9933 - val_accuracy: 0.1743 - val_soft_rmse: 2.7448\n",
      "Epoch 40/40\n",
      "73/73 [==============================] - 23s 320ms/step - loss: 0.6400 - accuracy: 0.7262 - soft_rmse: 0.7046 - val_loss: 2.0118 - val_accuracy: 0.1769 - val_soft_rmse: 2.3072\n"
     ]
    }
   ],
   "source": [
    "history = frame.model_predict.fit(\n",
    "        x=frame.train_generator,\n",
    "        #y=self.train_df['label'].values,\n",
    "        #generator = train_generator,\n",
    "        batch_size=None,\n",
    "        epochs=40,\n",
    "        verbose=1,\n",
    "        validation_data=frame.valid_generator,\n",
    "        #shuffle=False,\n",
    "        #class_weight=None,\n",
    "        #sample_weight=None,\n",
    "        #initial_epoch=0,\n",
    "        steps_per_epoch=frame.STEP_SIZE_TRAIN,\n",
    "        validation_steps=frame.STEP_SIZE_VALID,\n",
    "        #validation_freq=1,\n",
    "        max_queue_size=frame.batch_size*8,\n",
    "        #workers=4,\n",
    "        use_multiprocessing=False,\n",
    "        callbacks=[tensorboard_callback]\n",
    "    )"
   ]
  },
  {
   "cell_type": "code",
   "execution_count": 54,
   "metadata": {},
   "outputs": [
    {
     "data": {
      "image/png": "[encoded data removed]",
      "text/plain": [
       "<Figure size 432x288 with 1 Axes>"
      ]
     },
     "metadata": {},
     "output_type": "display_data"
    }
   ],
   "source": [
    "fr.plot_history(history)"
   ]
  },
  {
   "cell_type": "code",
   "execution_count": 36,
   "metadata": {},
   "outputs": [
    {
     "name": "stdout",
     "output_type": "stream",
     "text": [
      "\n",
      "Validationg the model ... ...\n",
      "45/45 [==============================] - 2s 53ms/step - loss: 1543848.5583 - accuracy: 1.0000 - soft_rmse: 0.0000e+00\n"
     ]
    },
    {
     "data": {
      "text/plain": [
       "[1543848.5583333333, 1.0, 0.0]"
      ]
     },
     "execution_count": 36,
     "metadata": {},
     "output_type": "execute_result"
    }
   ],
   "source": [
    "print('\\nValidationg the model ... ...')\n",
    "log_dir=\"../logs/validation/\" + dt.datetime.now().strftime(\"%Y%m%d-%H%M%S\")\n",
    "tensorboard_callback = tf.keras.callbacks.TensorBoard(log_dir=log_dir, histogram_freq=1)\n",
    "frame.model_predict.evaluate(\n",
    "        x=frame.test_generator,\n",
    "        y=None,\n",
    "        batch_size=None,\n",
    "        verbose=1,\n",
    "        sample_weight=None,\n",
    "        steps=frame.STEP_SIZE_TEST,\n",
    "        max_queue_size=frame.batch_size*8,\n",
    "        #workers=1,\n",
    "        use_multiprocessing=False,\n",
    "        callbacks=[tensorboard_callback]\n",
    "    )"
   ]
  },
  {
   "cell_type": "code",
   "execution_count": null,
   "metadata": {},
   "outputs": [],
   "source": []
  },
  {
   "cell_type": "code",
   "execution_count": 37,
   "metadata": {},
   "outputs": [
    {
     "name": "stdout",
     "output_type": "stream",
     "text": [
      "45/45 [==============================] - 3s 59ms/step\n"
     ]
    }
   ],
   "source": [
    "pred = frame.model_predict.predict(x=frame.test_generator,\n",
    "            steps=frame.STEP_SIZE_TEST,\n",
    "            max_queue_size=frame.batch_size*8,\n",
    "            #workers=8,\n",
    "            use_multiprocessing=False,\n",
    "            verbose=True)"
   ]
  },
  {
   "cell_type": "code",
   "execution_count": 38,
   "metadata": {},
   "outputs": [
    {
     "data": {
      "text/plain": [
       "(5760, 6)"
      ]
     },
     "execution_count": 38,
     "metadata": {},
     "output_type": "execute_result"
    }
   ],
   "source": [
    "pred.shape"
   ]
  },
  {
   "cell_type": "code",
   "execution_count": 53,
   "metadata": {},
   "outputs": [],
   "source": [
    "y_hat = np.argmax(pred, axis=1)"
   ]
  },
  {
   "cell_type": "code",
   "execution_count": 57,
   "metadata": {},
   "outputs": [
    {
     "data": {
      "text/plain": [
       "array([0, 0, 0, 0, 0])"
      ]
     },
     "execution_count": 57,
     "metadata": {},
     "output_type": "execute_result"
    }
   ],
   "source": [
    "y_hat[0:5]"
   ]
  },
  {
   "cell_type": "code",
   "execution_count": 58,
   "metadata": {},
   "outputs": [
    {
     "data": {
      "text/plain": [
       "array([4, 4, 2, 2, 3], dtype=uint8)"
      ]
     },
     "execution_count": 58,
     "metadata": {},
     "output_type": "execute_result"
    }
   ],
   "source": [
    "y_test[0:5]"
   ]
  },
  {
   "cell_type": "markdown",
   "metadata": {},
   "source": [
    "##### np.sum(y_hat)"
   ]
  },
  {
   "cell_type": "code",
   "execution_count": 47,
   "metadata": {},
   "outputs": [],
   "source": [
    "def build_decoder_predict(frame):\n",
    "\n",
    "    latent_inputs = Input(shape=(frame.latent_dim,), name='decoder_input')\n",
    "    x = Dense(frame.latent_dim, activation='relu')(latent_inputs)\n",
    "    x = Dropout(0.2)(x)\n",
    "    x = Dense(frame.latent_dim, activation='relu')(x)\n",
    "    x = Dropout(0.2)(x)\n",
    "    x = Dense(512, activation='relu')(x)\n",
    "    x = Dropout(0.2)(x)\n",
    "\n",
    "    outputs = Dense(6, activation='softmax')(x)\n",
    "    frame.decoder = Model(latent_inputs, outputs, name='decoder_predicter')"
   ]
  },
  {
   "cell_type": "code",
   "execution_count": 38,
   "metadata": {},
   "outputs": [],
   "source": [
    "def build_model_predict(frame):\n",
    "    frame.model_predict = Model(frame.inputs, frame.decoder(frame.encoder(frame.inputs)), name='model_predict')\n",
    "    optimizer = optimizers.Adam(\n",
    "        learning_rate=0.0008, beta_1=0.9, beta_2=0.999, epsilon=1e-07, amsgrad=False,\n",
    "        name='Adam'\n",
    "    )\n",
    "    frame.model_predict.compile(loss='categorical_crossentropy',\n",
    "                    optimizer=optimizer,\n",
    "                    metrics=['accuracy', soft_rmse])"
   ]
  },
  {
   "cell_type": "code",
   "execution_count": 25,
   "metadata": {},
   "outputs": [],
   "source": [
    "import numpy as np\n",
    "import matplotlib.pyplot as plt\n",
    "import pickle\n",
    "\n",
    "def plot_metrics(rmse, acc):\n",
    "    fig, ax1 = plt.subplots()\n",
    "    x = np.arange(1, len(rmse)+1, 1)\n",
    "    y1 = rmse\n",
    "    ax1.plot(x, y1, 'b-')\n",
    "    ax1.set_xlabel('Epoch')\n",
    "    # Make the y-axis label, ticks and tick labels match the line color.\n",
    "    ax1.set_ylabel('Loss', color='b')\n",
    "    ax1.tick_params('y', colors='b')\n",
    "\n",
    "    ax2 = ax1.twinx()\n",
    "    y2 = acc\n",
    "    ax2.plot(x, y2, 'r-')\n",
    "    ax2.set_ylabel('Accuracy', color='r')\n",
    "    ax2.tick_params('y', colors='r')\n",
    "\n",
    "    fig.tight_layout()\n",
    "    #fig.savefig('../image/loss_vs_acc.png')\n",
    "    plt.show()\n",
    "    pass\n"
   ]
  },
  {
   "cell_type": "code",
   "execution_count": 27,
   "metadata": {},
   "outputs": [
    {
     "data": {
      "image/png": "[encoded data removed]",
      "text/plain": [
       "<Figure size 432x288 with 2 Axes>"
      ]
     },
     "metadata": {},
     "output_type": "display_data"
    }
   ],
   "source": [
    "# load the pickled history files\n",
    "val_acc = ['%.2f' % elem for elem in history.history.get('val_accuracy')]\n",
    "val_loss = ['%.2f' % elem for elem in history.history.get('val_soft_rmse')]\n",
    "train_acc = ['%.2f' % elem for elem in history.history.get('accuracy')]\n",
    "train_loss = ['%.2f' % elem for elem in history.history.get('soft_rmse')]\n",
    "plot_metrics(val_loss, val_acc)"
   ]
  },
  {
   "cell_type": "code",
   "execution_count": 22,
   "metadata": {},
   "outputs": [],
   "source": [
    "val_acc = ['%.2f' % elem for elem in history.history.get('val_accuracy')]"
   ]
  },
  {
   "cell_type": "code",
   "execution_count": 26,
   "metadata": {},
   "outputs": [
    {
     "data": {
      "text/plain": [
       "20"
      ]
     },
     "execution_count": 26,
     "metadata": {},
     "output_type": "execute_result"
    }
   ],
   "source": [
    "len(val_acc)"
   ]
  },
  {
   "cell_type": "code",
   "execution_count": 15,
   "metadata": {},
   "outputs": [
    {
     "data": {
      "text/plain": [
       "{'loss': [252909.6573791897,\n",
       "  2500877.4360240446,\n",
       "  7670992.770287677,\n",
       "  15559957.70287677,\n",
       "  26228618.694718763,\n",
       "  38756153.48733362,\n",
       "  53778268.99270073,\n",
       "  70549411.40060112,\n",
       "  89577657.11635895,\n",
       "  109993347.14297982,\n",
       "  130655726.58823529,\n",
       "  156759943.62559038,\n",
       "  179947673.67282096,\n",
       "  208121372.88106483,\n",
       "  234054358.87677115,\n",
       "  264571822.22756547,\n",
       "  294785817.51481324,\n",
       "  324131611.4246458,\n",
       "  362517396.9531988,\n",
       "  392027302.03177327],\n",
       " 'accuracy': [0.5552812,\n",
       "  0.5333298,\n",
       "  0.5298411,\n",
       "  0.52307856,\n",
       "  0.5213611,\n",
       "  0.51663804,\n",
       "  0.5176041,\n",
       "  0.51400816,\n",
       "  0.5139008,\n",
       "  0.51255906,\n",
       "  0.51030487,\n",
       "  0.5115393,\n",
       "  0.50848,\n",
       "  0.5101438,\n",
       "  0.5077823,\n",
       "  0.50697726,\n",
       "  0.5070309,\n",
       "  0.504562,\n",
       "  0.50466937,\n",
       "  0.5057428],\n",
       " 'soft_rmse': [2.366571,\n",
       "  2.4145129,\n",
       "  2.421135,\n",
       "  2.4366498,\n",
       "  2.4395883,\n",
       "  2.4465578,\n",
       "  2.442967,\n",
       "  2.4512813,\n",
       "  2.4474666,\n",
       "  2.4570475,\n",
       "  2.4554431,\n",
       "  2.4532504,\n",
       "  2.4639494,\n",
       "  2.4596908,\n",
       "  2.459221,\n",
       "  2.4621089,\n",
       "  2.4690213,\n",
       "  2.4621518,\n",
       "  2.4616132,\n",
       "  2.4660044],\n",
       " 'val_loss': [4009.517869737413,\n",
       "  20391.400824652777,\n",
       "  47478.22808159722,\n",
       "  84053.41362847222,\n",
       "  136034.76041666666,\n",
       "  182284.86328125,\n",
       "  269979.5703125,\n",
       "  321655.66015625,\n",
       "  409428.3463541667,\n",
       "  477321.5564236111,\n",
       "  624231.3802083334,\n",
       "  704161.4652777778,\n",
       "  806635.3958333334,\n",
       "  905776.3454861111,\n",
       "  992373.2586805555,\n",
       "  1211737.8819444445,\n",
       "  1295696.9913194445,\n",
       "  1454188.5729166667,\n",
       "  1669438.4722222222,\n",
       "  1548219.71875],\n",
       " 'val_accuracy': [0.999783,\n",
       "  1.0,\n",
       "  1.0,\n",
       "  1.0,\n",
       "  1.0,\n",
       "  1.0,\n",
       "  1.0,\n",
       "  1.0,\n",
       "  1.0,\n",
       "  1.0,\n",
       "  1.0,\n",
       "  1.0,\n",
       "  1.0,\n",
       "  1.0,\n",
       "  1.0,\n",
       "  1.0,\n",
       "  1.0,\n",
       "  1.0,\n",
       "  1.0,\n",
       "  1.0],\n",
       " 'val_soft_rmse': [0.007365695,\n",
       "  0.0,\n",
       "  0.0,\n",
       "  0.0,\n",
       "  0.0,\n",
       "  0.0,\n",
       "  0.0,\n",
       "  0.0,\n",
       "  0.0,\n",
       "  0.0,\n",
       "  0.0,\n",
       "  0.0,\n",
       "  0.0,\n",
       "  0.0,\n",
       "  0.0,\n",
       "  0.0,\n",
       "  0.0,\n",
       "  0.0,\n",
       "  0.0,\n",
       "  0.0]}"
      ]
     },
     "execution_count": 15,
     "metadata": {},
     "output_type": "execute_result"
    }
   ],
   "source": [
    "history.hi"
   ]
  },
  {
   "cell_type": "code",
   "execution_count": 60,
   "metadata": {},
   "outputs": [
    {
     "data": {
      "text/plain": [
       "array([3, 4, 3, ..., 5, 1, 5], dtype=uint8)"
      ]
     },
     "execution_count": 60,
     "metadata": {},
     "output_type": "execute_result"
    }
   ],
   "source": [
    "y_train"
   ]
  },
  {
   "cell_type": "code",
   "execution_count": 61,
   "metadata": {},
   "outputs": [],
   "source": [
    "def soft_rmse(y_true, y_pred):\n",
    "    return K.sqrt(  K.mean(K.cast_to_floatx ( K.square( K.argmax(y_true) - K.argmax(y_pred) )), axis=-1) )"
   ]
  },
  {
   "cell_type": "code",
   "execution_count": null,
   "metadata": {},
   "outputs": [],
   "source": [
    "soft_rmse(pred)"
   ]
  },
  {
   "cell_type": "code",
   "execution_count": 68,
   "metadata": {},
   "outputs": [],
   "source": [
    "y_true = tf.keras.utils.to_categorical(y_test)"
   ]
  },
  {
   "cell_type": "code",
   "execution_count": 67,
   "metadata": {},
   "outputs": [
    {
     "data": {
      "text/plain": [
       "array([[1.        , 0.        , 0.        , 0.        , 0.        ,\n",
       "        0.        ],\n",
       "       [1.        , 0.        , 0.        , 0.        , 0.        ,\n",
       "        0.        ],\n",
       "       [1.        , 0.        , 0.        , 0.        , 0.        ,\n",
       "        0.        ],\n",
       "       ...,\n",
       "       [1.        , 0.        , 0.        , 0.        , 0.        ,\n",
       "        0.        ],\n",
       "       [1.        , 0.        , 0.        , 0.        , 0.        ,\n",
       "        0.        ],\n",
       "       [0.67486435, 0.02750359, 0.02277902, 0.14145926, 0.08211054,\n",
       "        0.0512832 ]], dtype=float32)"
      ]
     },
     "execution_count": 67,
     "metadata": {},
     "output_type": "execute_result"
    }
   ],
   "source": [
    "pred"
   ]
  },
  {
   "cell_type": "code",
   "execution_count": 72,
   "metadata": {},
   "outputs": [
    {
     "data": {
      "text/plain": [
       "<tf.Tensor: id=23218, shape=(), dtype=float32, numpy=3.133688>"
      ]
     },
     "execution_count": 72,
     "metadata": {},
     "output_type": "execute_result"
    }
   ],
   "source": [
    "soft_rmse(y_true[0:100], pred[0:100])"
   ]
  },
  {
   "cell_type": "code",
   "execution_count": 70,
   "metadata": {},
   "outputs": [
    {
     "data": {
      "text/plain": [
       "(5863, 6)"
      ]
     },
     "execution_count": 70,
     "metadata": {},
     "output_type": "execute_result"
    }
   ],
   "source": [
    "y_true.shape"
   ]
  },
  {
   "cell_type": "code",
   "execution_count": 71,
   "metadata": {},
   "outputs": [
    {
     "data": {
      "text/plain": [
       "(5760, 6)"
      ]
     },
     "execution_count": 71,
     "metadata": {},
     "output_type": "execute_result"
    }
   ],
   "source": [
    "pred.shape"
   ]
  },
  {
   "cell_type": "code",
   "execution_count": null,
   "metadata": {},
   "outputs": [],
   "source": []
  }
 ],
 "metadata": {
  "kernelspec": {
   "display_name": "Environment (conda_tensorflow2_p36)",
   "language": "python",
   "name": "conda_tensorflow2_p36"
  },
  "language_info": {
   "codemirror_mode": {
    "name": "ipython",
    "version": 3
   },
   "file_extension": ".py",
   "mimetype": "text/x-python",
   "name": "python",
   "nbconvert_exporter": "python",
   "pygments_lexer": "ipython3",
   "version": "3.6.5"
  }
 },
 "nbformat": 4,
 "nbformat_minor": 2
}
